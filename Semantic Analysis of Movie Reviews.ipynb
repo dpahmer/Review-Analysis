{
 "cells": [
  {
   "cell_type": "markdown",
   "id": "f6515581",
   "metadata": {},
   "source": [
    "### This trains a model to classify movie reviews as positive or negative and tries to predict that on new reviews"
   ]
  },
  {
   "cell_type": "code",
   "execution_count": 1,
   "id": "2308a258",
   "metadata": {},
   "outputs": [],
   "source": [
    "import pandas as pd, numpy as np\n",
    "from textblob import TextBlob, Word, Blobber\n",
    "from sklearn import metrics\n",
    "import unicodedata, sys, re, nltk\n",
    "from nltk.corpus import stopwords\n",
    "from nltk.tokenize import word_tokenize\n",
    "from nltk.stem.porter import PorterStemmer\n",
    "from sklearn.feature_extraction import DictVectorizer\n",
    "from sklearn.feature_extraction.text import CountVectorizer, TfidfVectorizer    "
   ]
  },
  {
   "cell_type": "code",
   "execution_count": 2,
   "id": "13941913",
   "metadata": {},
   "outputs": [],
   "source": [
    "mr=pd.read_csv('labeledtraindata.tsv', sep='\\t')\n",
    "stops=stopwords.words('english')\n",
    "\n",
    "review_lower=[mr['review'][x].lower() for x in range(25000)]\n",
    "p=re.compile(r'[^\\w\\s]+')\n",
    "\n",
    "review_lower_nopunct2=[p.sub('', x) for x in review_lower]"
   ]
  },
  {
   "cell_type": "code",
   "execution_count": 3,
   "id": "01855c49",
   "metadata": {},
   "outputs": [
    {
     "data": {
      "text/plain": [
       "'to heighten the drama of this sudsy maternity ward story its set in a special ward for difficult cases the main story is loretta youngs shes on leave from a long prison stretch for murder will the doctors save her baby at the cost of her life or heed her husbands plea for the opposite melodrama and sentiment are dominant and theyre not the honest sort to say the least for example just to keep things moving this hospital has a psycho ward next door to the maternity ward and lets a woman with a hysterical pregnancy wander about stealing babiesbr br there are just enough laughs and sarcasm for this to be recognizable as a warners film mostly from glenda farrell who swigs gin from her hotwater bottle while she waits to have twins that to her chagrin she finds theres now a law against selling an example of her repartee be careful farrell its too late to be careful aline macmahon is of course wonderfully authoritative as the chief nurse but dont expect her to be given a dramatic momentbr br the main theme of the film is that the sight of a baby turns anyone to mush even given the obvious limitations this film should have been better than it is'"
      ]
     },
     "execution_count": 3,
     "metadata": {},
     "output_type": "execute_result"
    }
   ],
   "source": [
    "review_lower_nopunct2[450]"
   ]
  },
  {
   "cell_type": "code",
   "execution_count": 4,
   "id": "07b591f7",
   "metadata": {},
   "outputs": [],
   "source": [
    "from datetime import datetime"
   ]
  },
  {
   "cell_type": "code",
   "execution_count": 6,
   "id": "d2b760ba",
   "metadata": {},
   "outputs": [],
   "source": [
    "porter=PorterStemmer()\n",
    "\n",
    "tbstemmed=[]\n",
    "for y in range (25000):\n",
    "    tbstemmed.append(str(' '.join([porter.stem(x) for x in TextBlob(nostops[y]).words])) )\n",
    "    "
   ]
  },
  {
   "cell_type": "code",
   "execution_count": 7,
   "id": "34cf4ce8",
   "metadata": {},
   "outputs": [],
   "source": [
    "rs=tbstemmed"
   ]
  },
  {
   "cell_type": "markdown",
   "id": "f7b1af73",
   "metadata": {},
   "source": [
    "First let's see what we're dealing with."
   ]
  },
  {
   "cell_type": "code",
   "execution_count": 8,
   "id": "489d27a2",
   "metadata": {
    "scrolled": true
   },
   "outputs": [
    {
     "data": {
      "text/plain": [
       "1    12500\n",
       "0    12500\n",
       "Name: sentiment, dtype: int64"
      ]
     },
     "execution_count": 8,
     "metadata": {},
     "output_type": "execute_result"
    }
   ],
   "source": [
    "mr.sentiment.value_counts()"
   ]
  },
  {
   "cell_type": "markdown",
   "id": "252df83f",
   "metadata": {},
   "source": [
    "ok, half positive and half negative."
   ]
  },
  {
   "cell_type": "code",
   "execution_count": 9,
   "id": "718b376e",
   "metadata": {},
   "outputs": [],
   "source": [
    "from sklearn.model_selection import train_test_split\n",
    "rs_train,rs_test,target_train,target_test=train_test_split(rs, mr.sentiment, test_size=.2, random_state=1)"
   ]
  },
  {
   "cell_type": "code",
   "execution_count": 10,
   "id": "dbf2e3a3",
   "metadata": {},
   "outputs": [],
   "source": [
    "#from sklearn.feature_extraction import DictVectorizer\n",
    "\n",
    "from sklearn.feature_extraction.text import CountVectorizer, TfidfVectorizer, TfidfTransformer\n",
    "tfidf_vect=TfidfVectorizer()\n",
    "\n",
    "#tfidf_tran=TfidfTransformer()"
   ]
  },
  {
   "cell_type": "code",
   "execution_count": 11,
   "id": "523e852d",
   "metadata": {},
   "outputs": [],
   "source": [
    "rs_train_tf=tfidf_vect.fit_transform(rs_train)"
   ]
  },
  {
   "cell_type": "code",
   "execution_count": 14,
   "id": "68eee397",
   "metadata": {},
   "outputs": [
    {
     "data": {
      "text/plain": [
       "(5000, 81184)"
      ]
     },
     "execution_count": 14,
     "metadata": {},
     "output_type": "execute_result"
    }
   ],
   "source": [
    "rs_test_tf=tfidf_vect.transform(rs_test)\n",
    "rs_test_tf.shape"
   ]
  },
  {
   "cell_type": "markdown",
   "id": "d2ad65a5",
   "metadata": {},
   "source": [
    "#### Training a logistic regression using the training data."
   ]
  },
  {
   "cell_type": "code",
   "execution_count": 15,
   "id": "28382ea8",
   "metadata": {},
   "outputs": [],
   "source": [
    "from sklearn.linear_model import LogisticRegression\n",
    "logreg=LogisticRegression(random_state=1)\n",
    "movreviewmodel=logreg.fit(rs_train_tf, target_train)"
   ]
  },
  {
   "cell_type": "code",
   "execution_count": 16,
   "id": "bd998054",
   "metadata": {},
   "outputs": [
    {
     "data": {
      "text/plain": [
       "0.9313"
      ]
     },
     "execution_count": 16,
     "metadata": {},
     "output_type": "execute_result"
    }
   ],
   "source": [
    "movreviewmodel.score(rs_train_tf, target_train)"
   ]
  },
  {
   "cell_type": "markdown",
   "id": "cc7017f8",
   "metadata": {},
   "source": [
    "That is the R-squared score on the TRAINING set, but I wanted to do that just out of curiosity. Now for the test set:"
   ]
  },
  {
   "cell_type": "code",
   "execution_count": 17,
   "id": "16d2c562",
   "metadata": {},
   "outputs": [
    {
     "data": {
      "text/plain": [
       "0.8864"
      ]
     },
     "execution_count": 17,
     "metadata": {},
     "output_type": "execute_result"
    }
   ],
   "source": [
    "movreviewmodel.score(rs_test_tf, target_test)"
   ]
  },
  {
   "cell_type": "markdown",
   "id": "5c464c54",
   "metadata": {},
   "source": [
    "I suppose it's pretty good."
   ]
  },
  {
   "cell_type": "code",
   "execution_count": 18,
   "id": "cdd5c696",
   "metadata": {},
   "outputs": [],
   "source": [
    "test_pred=movreviewmodel.predict(rs_test_tf)"
   ]
  },
  {
   "cell_type": "code",
   "execution_count": 19,
   "id": "ce947f73",
   "metadata": {},
   "outputs": [
    {
     "data": {
      "text/plain": [
       "array([[2187,  316],\n",
       "       [ 252, 2245]], dtype=int64)"
      ]
     },
     "execution_count": 19,
     "metadata": {},
     "output_type": "execute_result"
    }
   ],
   "source": [
    "metrics.confusion_matrix(target_test,test_pred)"
   ]
  },
  {
   "cell_type": "markdown",
   "id": "05b6f108",
   "metadata": {},
   "source": [
    "So there were relatively few false negatives (252), somewhat more false positives (316), but generally good semantic analysis."
   ]
  },
  {
   "cell_type": "code",
   "execution_count": 20,
   "id": "314c0a62",
   "metadata": {},
   "outputs": [],
   "source": [
    "from sklearn.metrics import r2_score, recall_score, f1_score, classification_report, precision_recall_fscore_support"
   ]
  },
  {
   "cell_type": "code",
   "execution_count": 21,
   "id": "5909db5b",
   "metadata": {},
   "outputs": [
    {
     "name": "stdout",
     "output_type": "stream",
     "text": [
      "precision of model:  0.8766106989457243\n"
     ]
    }
   ],
   "source": [
    "print('precision of model: ',metrics.precision_score(target_test,test_pred))"
   ]
  },
  {
   "cell_type": "code",
   "execution_count": 22,
   "id": "95ac76ee",
   "metadata": {},
   "outputs": [
    {
     "name": "stdout",
     "output_type": "stream",
     "text": [
      "Recall (Sensitivity) score:  0.8990788946736084\n"
     ]
    }
   ],
   "source": [
    "print('Recall (Sensitivity) score: ',metrics.recall_score(target_test,test_pred))"
   ]
  },
  {
   "cell_type": "code",
   "execution_count": 23,
   "id": "02956e8f",
   "metadata": {},
   "outputs": [
    {
     "name": "stdout",
     "output_type": "stream",
     "text": [
      "Recall (Specificity) score:  0.8737514982021574\n"
     ]
    }
   ],
   "source": [
    "print('Recall (Specificity) score: ',metrics.recall_score(target_test,test_pred, pos_label=0))"
   ]
  },
  {
   "cell_type": "code",
   "execution_count": 24,
   "id": "f4b5d78c",
   "metadata": {},
   "outputs": [
    {
     "name": "stdout",
     "output_type": "stream",
     "text": [
      "F1 score:  0.8877026492684855\n"
     ]
    }
   ],
   "source": [
    "print('F1 score: ',metrics.f1_score(target_test,test_pred))"
   ]
  },
  {
   "cell_type": "markdown",
   "id": "abb0158d",
   "metadata": {},
   "source": [
    "It's easier to use the Classification report:"
   ]
  },
  {
   "cell_type": "code",
   "execution_count": 25,
   "id": "a79ed848",
   "metadata": {},
   "outputs": [
    {
     "name": "stdout",
     "output_type": "stream",
     "text": [
      "              precision    recall  f1-score   support\n",
      "\n",
      "           0       0.90      0.87      0.89      2503\n",
      "           1       0.88      0.90      0.89      2497\n",
      "\n",
      "    accuracy                           0.89      5000\n",
      "   macro avg       0.89      0.89      0.89      5000\n",
      "weighted avg       0.89      0.89      0.89      5000\n",
      "\n"
     ]
    }
   ],
   "source": [
    "print(metrics.classification_report(target_test,test_pred))"
   ]
  },
  {
   "cell_type": "code",
   "execution_count": 26,
   "id": "969185a2",
   "metadata": {},
   "outputs": [],
   "source": [
    "import matplotlib.pyplot as plt\n",
    "from sklearn.metrics import RocCurveDisplay"
   ]
  },
  {
   "cell_type": "code",
   "execution_count": 27,
   "id": "2aeddb3c",
   "metadata": {},
   "outputs": [
    {
     "data": {
      "text/plain": [
       "<sklearn.metrics._plot.roc_curve.RocCurveDisplay at 0x1bbe473c220>"
      ]
     },
     "execution_count": 27,
     "metadata": {},
     "output_type": "execute_result"
    },
    {
     "data": {
      "image/png": "[encoded data removed]",
      "text/plain": [
       "<Figure size 432x288 with 1 Axes>"
      ]
     },
     "metadata": {
      "needs_background": "light"
     },
     "output_type": "display_data"
    }
   ],
   "source": [
    "RocCurveDisplay.from_predictions(target_test, test_pred)"
   ]
  },
  {
   "cell_type": "markdown",
   "id": "01b85af3",
   "metadata": {},
   "source": [
    "Let's see how the Random Forest Classifier did:"
   ]
  },
  {
   "cell_type": "code",
   "execution_count": 28,
   "id": "2cea20b5",
   "metadata": {},
   "outputs": [],
   "source": [
    "from sklearn.ensemble import RandomForestClassifier\n",
    "forest=RandomForestClassifier()\n",
    "movieforest=forest.fit(rs_train_tf, target_train)"
   ]
  },
  {
   "cell_type": "code",
   "execution_count": 29,
   "id": "e4b637d5",
   "metadata": {},
   "outputs": [
    {
     "data": {
      "text/plain": [
       "array([[2137,  366],\n",
       "       [ 405, 2092]], dtype=int64)"
      ]
     },
     "execution_count": 29,
     "metadata": {},
     "output_type": "execute_result"
    }
   ],
   "source": [
    "y_forest_pred=forest.predict(rs_test_tf)\n",
    "metrics.confusion_matrix(target_test,y_forest_pred)"
   ]
  },
  {
   "cell_type": "code",
   "execution_count": 30,
   "id": "7d5378f4",
   "metadata": {},
   "outputs": [
    {
     "name": "stdout",
     "output_type": "stream",
     "text": [
      "precision of model:  0.8510984540276648\n",
      "Recall (Sensitivity) score:  0.8378053664397277\n",
      "Recall (Specificity) score:  0.853775469436676\n",
      "F1 score:  0.8443995963673058\n",
      "              precision    recall  f1-score   support\n",
      "\n",
      "           0       0.84      0.85      0.85      2503\n",
      "           1       0.85      0.84      0.84      2497\n",
      "\n",
      "    accuracy                           0.85      5000\n",
      "   macro avg       0.85      0.85      0.85      5000\n",
      "weighted avg       0.85      0.85      0.85      5000\n",
      "\n"
     ]
    }
   ],
   "source": [
    "print('precision of model: ',metrics.precision_score(target_test,y_forest_pred))\n",
    "print('Recall (Sensitivity) score: ',metrics.recall_score(target_test,y_forest_pred))\n",
    "print('Recall (Specificity) score: ',metrics.recall_score(target_test,y_forest_pred, pos_label=0))\n",
    "print('F1 score: ',metrics.f1_score(target_test,y_forest_pred))\n",
    "print(metrics.classification_report(target_test,y_forest_pred))\n"
   ]
  },
  {
   "cell_type": "code",
   "execution_count": 31,
   "id": "dc58c112",
   "metadata": {},
   "outputs": [
    {
     "data": {
      "text/plain": [
       "<sklearn.metrics._plot.roc_curve.RocCurveDisplay at 0x1bbe847bb20>"
      ]
     },
     "execution_count": 31,
     "metadata": {},
     "output_type": "execute_result"
    },
    {
     "data": {
      "image/png": "[encoded data removed]",
      "text/plain": [
       "<Figure size 432x288 with 1 Axes>"
      ]
     },
     "metadata": {
      "needs_background": "light"
     },
     "output_type": "display_data"
    }
   ],
   "source": [
    "RocCurveDisplay.from_predictions(target_test, y_forest_pred)"
   ]
  },
  {
   "cell_type": "markdown",
   "id": "b14a571c",
   "metadata": {},
   "source": [
    "So, not as good as the logistic regressor!  \n",
    "Let's try the Naive Bayes Complement regressor (Although there are several versions of the NB, I chose the Complement Naive Bayes method since it is reputed to be better on text classification tasks:"
   ]
  },
  {
   "cell_type": "code",
   "execution_count": 32,
   "id": "300f31fc",
   "metadata": {},
   "outputs": [],
   "source": [
    "from sklearn.naive_bayes import ComplementNB\n",
    "nb=ComplementNB()\n",
    "movienb=nb.fit(rs_train_tf, target_train)"
   ]
  },
  {
   "cell_type": "code",
   "execution_count": 33,
   "id": "fc787236",
   "metadata": {},
   "outputs": [
    {
     "data": {
      "text/plain": [
       "array([[2178,  325],\n",
       "       [ 356, 2141]], dtype=int64)"
      ]
     },
     "execution_count": 33,
     "metadata": {},
     "output_type": "execute_result"
    }
   ],
   "source": [
    "y_nb_pred=nb.predict(rs_test_tf)\n",
    "metrics.confusion_matrix(target_test,y_nb_pred)"
   ]
  },
  {
   "cell_type": "code",
   "execution_count": 34,
   "id": "1e425078",
   "metadata": {},
   "outputs": [
    {
     "name": "stdout",
     "output_type": "stream",
     "text": [
      "precision of model:  0.8682076236820763\n",
      "Recall (Sensitivity) score:  0.8574289146976372\n",
      "Recall (Specificity) score:  0.8701558130243707\n",
      "F1 score:  0.8627846060850293\n",
      "              precision    recall  f1-score   support\n",
      "\n",
      "           0       0.86      0.87      0.86      2503\n",
      "           1       0.87      0.86      0.86      2497\n",
      "\n",
      "    accuracy                           0.86      5000\n",
      "   macro avg       0.86      0.86      0.86      5000\n",
      "weighted avg       0.86      0.86      0.86      5000\n",
      "\n"
     ]
    }
   ],
   "source": [
    "print('precision of model: ',metrics.precision_score(target_test,y_nb_pred))\n",
    "print('Recall (Sensitivity) score: ',metrics.recall_score(target_test,y_nb_pred))\n",
    "print('Recall (Specificity) score: ',metrics.recall_score(target_test,y_nb_pred, pos_label=0))\n",
    "print('F1 score: ',metrics.f1_score(target_test,y_nb_pred))\n",
    "print(metrics.classification_report(target_test,y_nb_pred))"
   ]
  },
  {
   "cell_type": "code",
   "execution_count": 35,
   "id": "00fe8c7b",
   "metadata": {},
   "outputs": [
    {
     "data": {
      "text/plain": [
       "<sklearn.metrics._plot.roc_curve.RocCurveDisplay at 0x1bbe97efee0>"
      ]
     },
     "execution_count": 35,
     "metadata": {},
     "output_type": "execute_result"
    },
    {
     "data": {
      "image/png": "[encoded data removed]",
      "text/plain": [
       "<Figure size 432x288 with 1 Axes>"
      ]
     },
     "metadata": {
      "needs_background": "light"
     },
     "output_type": "display_data"
    }
   ],
   "source": [
    "RocCurveDisplay.from_predictions(target_test, y_nb_pred)"
   ]
  },
  {
   "cell_type": "markdown",
   "id": "9b2ba6ca",
   "metadata": {},
   "source": [
    "So better than the Random Forest, but not as accurate as the Logistic regressor!  \n",
    "Let's try an unsupervised method (this is more amazing, since we don't tell it which are positive and which are negative to train it!)"
   ]
  },
  {
   "cell_type": "code",
   "execution_count": 36,
   "id": "6ec92928",
   "metadata": {},
   "outputs": [],
   "source": [
    "from sklearn.cluster import KMeans\n",
    "km=KMeans(n_clusters=2, random_state=1)\n",
    "moviekm=km.fit(rs_train_tf)"
   ]
  },
  {
   "cell_type": "code",
   "execution_count": 37,
   "id": "8fea5610",
   "metadata": {},
   "outputs": [
    {
     "data": {
      "text/plain": [
       "array([[2178,  325],\n",
       "       [ 356, 2141]], dtype=int64)"
      ]
     },
     "execution_count": 37,
     "metadata": {},
     "output_type": "execute_result"
    }
   ],
   "source": [
    "y_km_pred=nb.predict(rs_test_tf)\n",
    "metrics.confusion_matrix(target_test,y_km_pred)"
   ]
  },
  {
   "cell_type": "code",
   "execution_count": 38,
   "id": "0dd3b7bf",
   "metadata": {},
   "outputs": [
    {
     "name": "stdout",
     "output_type": "stream",
     "text": [
      "precision of model:  0.8682076236820763\n",
      "Recall (Sensitivity) score:  0.8574289146976372\n",
      "Recall (Specificity) score:  0.8701558130243707\n",
      "F1 score:  0.8627846060850293\n",
      "              precision    recall  f1-score   support\n",
      "\n",
      "           0       0.86      0.87      0.86      2503\n",
      "           1       0.87      0.86      0.86      2497\n",
      "\n",
      "    accuracy                           0.86      5000\n",
      "   macro avg       0.86      0.86      0.86      5000\n",
      "weighted avg       0.86      0.86      0.86      5000\n",
      "\n"
     ]
    }
   ],
   "source": [
    "print('precision of model: ',metrics.precision_score(target_test,y_km_pred))\n",
    "print('Recall (Sensitivity) score: ',metrics.recall_score(target_test,y_km_pred))\n",
    "print('Recall (Specificity) score: ',metrics.recall_score(target_test,y_km_pred, pos_label=0))\n",
    "print('F1 score: ',metrics.f1_score(target_test,y_km_pred))\n",
    "print(metrics.classification_report(target_test,y_km_pred))"
   ]
  },
  {
   "cell_type": "code",
   "execution_count": 39,
   "id": "f8ea5d02",
   "metadata": {},
   "outputs": [
    {
     "data": {
      "text/plain": [
       "<sklearn.metrics._plot.roc_curve.RocCurveDisplay at 0x1bbe99aeb50>"
      ]
     },
     "execution_count": 39,
     "metadata": {},
     "output_type": "execute_result"
    },
    {
     "data": {
      "image/png": "[encoded data removed]",
      "text/plain": [
       "<Figure size 432x288 with 1 Axes>"
      ]
     },
     "metadata": {
      "needs_background": "light"
     },
     "output_type": "display_data"
    }
   ],
   "source": [
    "RocCurveDisplay.from_predictions(target_test, y_km_pred)"
   ]
  },
  {
   "cell_type": "markdown",
   "id": "c779fe0a",
   "metadata": {},
   "source": [
    "So it's pretty good without being told which is positive and which is negative!  \n",
    "Still , the best model was the Logistic Regression."
   ]
  }
 ],
 "metadata": {
  "kernelspec": {
   "display_name": "Python 3 (ipykernel)",
   "language": "python",
   "name": "python3"
  },
  "language_info": {
   "codemirror_mode": {
    "name": "ipython",
    "version": 3
   },
   "file_extension": ".py",
   "mimetype": "text/x-python",
   "name": "python",
   "nbconvert_exporter": "python",
   "pygments_lexer": "ipython3",
   "version": "3.9.16"
  }
 },
 "nbformat": 4,
 "nbformat_minor": 5
}
